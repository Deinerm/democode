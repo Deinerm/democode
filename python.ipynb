{
 "metadata": {
  "name": "",
  "signature": "sha256:f462d7e616b3fc4dc48f79a44ea88f8de8342ecdbaf1f00e92c3d918a0721f4d"
 },
 "nbformat": 3,
 "nbformat_minor": 0,
 "worksheets": [
  {
   "cells": [
    {
     "cell_type": "code",
     "collapsed": false,
     "input": [
      "import pylab"
     ],
     "language": "python",
     "metadata": {},
     "outputs": []
    },
    {
     "cell_type": "code",
     "collapsed": false,
     "input": [],
     "language": "python",
     "metadata": {},
     "outputs": []
    }
   ],
   "metadata": {}
  }
 ]
}